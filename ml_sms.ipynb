{
  "nbformat": 4,
  "nbformat_minor": 0,
  "metadata": {
    "colab": {
      "name": "CAP 6307 - ML Models: SMS Spam Dataset",
      "provenance": []
    },
    "kernelspec": {
      "name": "python3",
      "display_name": "Python 3"
    },
    "language_info": {
      "name": "python"
    }
  },
  "cells": [
    {
      "cell_type": "markdown",
      "metadata": {
        "id": "zx2omqsYiSkI"
      },
      "source": [
        "# **A Comprehensive Survey of Machine Learning Methods for Text Classification**\n",
        "## ML Models: SMS Spam Dataset\n",
        "\n",
        "#### *Carlos Santiago Bañón, Moazam Soomro*\n",
        "#### *CAP 6307, Fall '21*"
      ]
    },
    {
      "cell_type": "code",
      "metadata": {
        "id": "4CUUdANWiNF5"
      },
      "source": [
        "import matplotlib.pyplot as plt\n",
        "import pandas as pd\n",
        "import seaborn as sn\n",
        "import time\n",
        "from sklearn.ensemble import AdaBoostClassifier, RandomForestClassifier\n",
        "from sklearn.feature_extraction.text import CountVectorizer\n",
        "from sklearn.linear_model import LogisticRegression\n",
        "from sklearn.metrics import accuracy_score, confusion_matrix, f1_score, precision_score, recall_score\n",
        "from sklearn.naive_bayes import MultinomialNB\n",
        "from sklearn.neighbors import KNeighborsClassifier\n",
        "from sklearn.pipeline import Pipeline\n",
        "from sklearn.svm import LinearSVC\n",
        "from sklearn.tree import DecisionTreeClassifier"
      ],
      "execution_count": 1,
      "outputs": []
    },
    {
      "cell_type": "markdown",
      "metadata": {
        "id": "_7nf05_ri2gZ"
      },
      "source": [
        "## **Loading the Dataset**\n",
        "\n",
        "---\n",
        "\n"
      ]
    },
    {
      "cell_type": "code",
      "metadata": {
        "id": "evpbjSxYi5TS"
      },
      "source": [
        "# Choose the dataset files.\n",
        "train_file = \"./spam_train.csv\"\n",
        "test_file = \"./spam_test.csv\""
      ],
      "execution_count": 2,
      "outputs": []
    },
    {
      "cell_type": "code",
      "metadata": {
        "colab": {
          "base_uri": "https://localhost:8080/",
          "height": 204
        },
        "id": "rh4cxl84i7la",
        "outputId": "30454f51-8bd9-416f-be23-d7b858686a05"
      },
      "source": [
        "# Load the training data.\n",
        "train = pd.read_csv(train_file)\n",
        "train.head()"
      ],
      "execution_count": 3,
      "outputs": [
        {
          "output_type": "execute_result",
          "data": {
            "text/html": [
              "<div>\n",
              "<style scoped>\n",
              "    .dataframe tbody tr th:only-of-type {\n",
              "        vertical-align: middle;\n",
              "    }\n",
              "\n",
              "    .dataframe tbody tr th {\n",
              "        vertical-align: top;\n",
              "    }\n",
              "\n",
              "    .dataframe thead th {\n",
              "        text-align: right;\n",
              "    }\n",
              "</style>\n",
              "<table border=\"1\" class=\"dataframe\">\n",
              "  <thead>\n",
              "    <tr style=\"text-align: right;\">\n",
              "      <th></th>\n",
              "      <th>text</th>\n",
              "      <th>label</th>\n",
              "    </tr>\n",
              "  </thead>\n",
              "  <tbody>\n",
              "    <tr>\n",
              "      <th>0</th>\n",
              "      <td>'m boat still mom check yo 'm half naked</td>\n",
              "      <td>0</td>\n",
              "    </tr>\n",
              "    <tr>\n",
              "      <th>1</th>\n",
              "      <td>bank granite issue strong-buy explosive pick m...</td>\n",
              "      <td>1</td>\n",
              "    </tr>\n",
              "    <tr>\n",
              "      <th>2</th>\n",
              "      <td>r giving second chance rahul dengra</td>\n",
              "      <td>0</td>\n",
              "    </tr>\n",
              "    <tr>\n",
              "      <th>3</th>\n",
              "      <td>played smash bros lt gt religiously</td>\n",
              "      <td>0</td>\n",
              "    </tr>\n",
              "    <tr>\n",
              "      <th>4</th>\n",
              "      <td>private 2003 account statement 07973788240 sho...</td>\n",
              "      <td>1</td>\n",
              "    </tr>\n",
              "  </tbody>\n",
              "</table>\n",
              "</div>"
            ],
            "text/plain": [
              "                                                text  label\n",
              "0           'm boat still mom check yo 'm half naked      0\n",
              "1  bank granite issue strong-buy explosive pick m...      1\n",
              "2                r giving second chance rahul dengra      0\n",
              "3                played smash bros lt gt religiously      0\n",
              "4  private 2003 account statement 07973788240 sho...      1"
            ]
          },
          "metadata": {},
          "execution_count": 3
        }
      ]
    },
    {
      "cell_type": "code",
      "metadata": {
        "colab": {
          "base_uri": "https://localhost:8080/",
          "height": 204
        },
        "id": "PDbIAnqsi831",
        "outputId": "2cfbcfcc-a578-4ad9-ce04-8f9ee485f88c"
      },
      "source": [
        "# Load the testing data.\n",
        "test = pd.read_csv(test_file)\n",
        "test.head()"
      ],
      "execution_count": 4,
      "outputs": [
        {
          "output_type": "execute_result",
          "data": {
            "text/html": [
              "<div>\n",
              "<style scoped>\n",
              "    .dataframe tbody tr th:only-of-type {\n",
              "        vertical-align: middle;\n",
              "    }\n",
              "\n",
              "    .dataframe tbody tr th {\n",
              "        vertical-align: top;\n",
              "    }\n",
              "\n",
              "    .dataframe thead th {\n",
              "        text-align: right;\n",
              "    }\n",
              "</style>\n",
              "<table border=\"1\" class=\"dataframe\">\n",
              "  <thead>\n",
              "    <tr style=\"text-align: right;\">\n",
              "      <th></th>\n",
              "      <th>text</th>\n",
              "      <th>label</th>\n",
              "    </tr>\n",
              "  </thead>\n",
              "  <tbody>\n",
              "    <tr>\n",
              "      <th>0</th>\n",
              "      <td>funny fact nobody teach volcano 2 erupt tsunam...</td>\n",
              "      <td>0</td>\n",
              "    </tr>\n",
              "    <tr>\n",
              "      <th>1</th>\n",
              "      <td>sent score sophas secondary application school...</td>\n",
              "      <td>0</td>\n",
              "    </tr>\n",
              "    <tr>\n",
              "      <th>2</th>\n",
              "      <td>know someone know fancy call 09058097218 find ...</td>\n",
              "      <td>1</td>\n",
              "    </tr>\n",
              "    <tr>\n",
              "      <th>3</th>\n",
              "      <td>promise getting soon 'll text morning let know...</td>\n",
              "      <td>0</td>\n",
              "    </tr>\n",
              "    <tr>\n",
              "      <th>4</th>\n",
              "      <td>congratulation ur awarded either å£500 cd gift...</td>\n",
              "      <td>1</td>\n",
              "    </tr>\n",
              "  </tbody>\n",
              "</table>\n",
              "</div>"
            ],
            "text/plain": [
              "                                                text  label\n",
              "0  funny fact nobody teach volcano 2 erupt tsunam...      0\n",
              "1  sent score sophas secondary application school...      0\n",
              "2  know someone know fancy call 09058097218 find ...      1\n",
              "3  promise getting soon 'll text morning let know...      0\n",
              "4  congratulation ur awarded either å£500 cd gift...      1"
            ]
          },
          "metadata": {},
          "execution_count": 4
        }
      ]
    },
    {
      "cell_type": "code",
      "metadata": {
        "colab": {
          "base_uri": "https://localhost:8080/"
        },
        "id": "Bhsg2dX1i-Oa",
        "outputId": "03c7933a-6853-40ff-f177-bb4bcd60a7ab"
      },
      "source": [
        "# Show the sizes.\n",
        "print(\"Training Set:\", train.shape)\n",
        "print(\"Test Set:\", test.shape)"
      ],
      "execution_count": 5,
      "outputs": [
        {
          "output_type": "stream",
          "name": "stdout",
          "text": [
            "Training Set: (4457, 2)\n",
            "Test Set: (1115, 2)\n"
          ]
        }
      ]
    },
    {
      "cell_type": "code",
      "metadata": {
        "id": "0iXRRSrjjBqb"
      },
      "source": [
        "# Separate the text and labels.\n",
        "X_train = train.text.astype('U')\n",
        "Y_train = train.label\n",
        "X_test = test.text.astype('U')\n",
        "Y_test = test.label"
      ],
      "execution_count": 6,
      "outputs": []
    },
    {
      "cell_type": "markdown",
      "metadata": {
        "id": "YaCOAH2NjLPx"
      },
      "source": [
        "## **Training the Models**\n",
        "\n",
        "---\n",
        "\n"
      ]
    },
    {
      "cell_type": "code",
      "metadata": {
        "id": "mf2DA4vfjPR3"
      },
      "source": [
        "# Initialize the metric lists.\n",
        "acc_list = []\n",
        "p_list = []\n",
        "r_list = []\n",
        "f1_list = []\n",
        "cm_list = []\n",
        "time_train_list = []\n",
        "time_pred_list = []\n",
        "\n",
        "# Initialize the best result lists.\n",
        "y_pred_list = []\n",
        "best_pred_list = []\n",
        "classifiers = ['LSTM', 'Logistic Regression', 'Support Vector\\nMachine', 'Random Forest', 'Decision Tree', 'AdaBoost', 'k-Nearest Neighbors', 'Multinomial\\nNaïve Bayes', 'All', 'Top 3']\n",
        "best_classifiers = []"
      ],
      "execution_count": 7,
      "outputs": []
    },
    {
      "cell_type": "code",
      "metadata": {
        "id": "EpbQ9ZvojpRL"
      },
      "source": [
        "# Append the results from the LSTM.\n",
        "acc_list.append(0.98)\n",
        "p_list.append(0.98)\n",
        "r_list.append(0.945)\n",
        "f1_list.append(0.960)\n",
        "cm_list.append([[962, 3], [16, 134]])\n",
        "time_train_list.append(6.8)"
      ],
      "execution_count": 8,
      "outputs": []
    },
    {
      "cell_type": "markdown",
      "metadata": {
        "id": "LqJjyvBDkBqm"
      },
      "source": [
        "### **Logistic Regression**"
      ]
    },
    {
      "cell_type": "code",
      "metadata": {
        "colab": {
          "base_uri": "https://localhost:8080/"
        },
        "id": "jN58r8TmkEKy",
        "outputId": "39920fea-b496-4b1d-bb75-31e184057c14"
      },
      "source": [
        "# Set up the classifier.\n",
        "clf_logistic = Pipeline(steps=[\n",
        "  ('preprocessing', CountVectorizer()),\n",
        "  ('classifier', LogisticRegression(max_iter=2000, random_state=42))\n",
        "  ])\n",
        "\n",
        "# Train the model.\n",
        "print(\"Training...\")\n",
        "t0 = time.time()\n",
        "clf_logistic.fit(X_train, Y_train)\n",
        "t1 = time.time()\n",
        "print(\"Training Time:\", t1 - t0)"
      ],
      "execution_count": 9,
      "outputs": [
        {
          "output_type": "stream",
          "name": "stdout",
          "text": [
            "Training...\n",
            "Training Time: 0.11789417266845703\n"
          ]
        }
      ]
    },
    {
      "cell_type": "code",
      "metadata": {
        "colab": {
          "base_uri": "https://localhost:8080/"
        },
        "id": "PIY7Y7cfkIcv",
        "outputId": "cedbc6b3-e2d9-4be2-c66d-c24440213f81"
      },
      "source": [
        "# Predict from the test set and save the results.\n",
        "print(\"Predicting...\")\n",
        "t2 = time.time()\n",
        "y_pred = clf_logistic.predict(X_test)\n",
        "t3 = time.time()\n",
        "print(\"Prediction Time:\", t3 - t2)\n",
        "print(\"\\n\")\n",
        "y_pred_list.append(y_pred)\n",
        "best_pred_list.append(y_pred)\n",
        "\n",
        "# Get the performance metrics.\n",
        "print(\"Evaluating...\")\n",
        "print(\"Num. Iterations:\", clf_logistic['classifier'].n_iter_[0])\n",
        "print(\"Accuracy:\", accuracy_score(y_pred, Y_test))\n",
        "print(\"Precision:\", precision_score(y_pred, Y_test))\n",
        "print(\"Recall:\", recall_score(y_pred, Y_test))\n",
        "print(\"F1 Score:\", f1_score(y_pred, Y_test))\n",
        "print(\"Confusion Matrix:\", confusion_matrix(y_pred, Y_test))"
      ],
      "execution_count": 10,
      "outputs": [
        {
          "output_type": "stream",
          "name": "stdout",
          "text": [
            "Predicting...\n",
            "Prediction Time: 0.016196727752685547\n",
            "\n",
            "\n",
            "Evaluating...\n",
            "Num. Iterations: 32\n",
            "Accuracy: 0.97847533632287\n",
            "Precision: 0.84\n",
            "Recall: 1.0\n",
            "F1 Score: 0.9130434782608696\n",
            "Confusion Matrix: [[965  24]\n",
            " [  0 126]]\n"
          ]
        }
      ]
    },
    {
      "cell_type": "code",
      "metadata": {
        "id": "rm3I5VETkN0r"
      },
      "source": [
        "# Save the metrics.\n",
        "acc_list.append(accuracy_score(y_pred, Y_test))\n",
        "p_list.append(precision_score(y_pred, Y_test))\n",
        "r_list.append(recall_score(y_pred, Y_test))\n",
        "f1_list.append(f1_score(y_pred, Y_test))\n",
        "cm_list.append(confusion_matrix(y_pred, Y_test))\n",
        "time_train_list.append(t1 - t0)\n",
        "time_pred_list.append(t3 - t2)"
      ],
      "execution_count": 11,
      "outputs": []
    },
    {
      "cell_type": "markdown",
      "metadata": {
        "id": "CKu-AcN6kQ7Y"
      },
      "source": [
        "### **Support Vector Machine**"
      ]
    },
    {
      "cell_type": "code",
      "metadata": {
        "colab": {
          "base_uri": "https://localhost:8080/"
        },
        "id": "zTykZTA7kQTI",
        "outputId": "1bc14406-0491-4f93-c651-3eb09fecc154"
      },
      "source": [
        "# Set up the classifier.\n",
        "clf_svm = Pipeline(steps=[\n",
        "  ('preprocessing', CountVectorizer()),\n",
        "  ('classifier', LinearSVC(max_iter=5000, random_state=42))\n",
        "  ])\n",
        "\n",
        "# Train the model.\n",
        "print(\"Training...\")\n",
        "t0 = time.time()\n",
        "clf_svm.fit(X_train, Y_train)\n",
        "t1 = time.time()\n",
        "print(\"Training Time:\", t1 - t0)"
      ],
      "execution_count": 12,
      "outputs": [
        {
          "output_type": "stream",
          "name": "stdout",
          "text": [
            "Training...\n",
            "Training Time: 0.09831786155700684\n"
          ]
        }
      ]
    },
    {
      "cell_type": "code",
      "metadata": {
        "colab": {
          "base_uri": "https://localhost:8080/"
        },
        "id": "fVptqB-jkUam",
        "outputId": "e2e81a43-2665-48af-b2a5-10270790d61a"
      },
      "source": [
        "# Predict from the test set.\n",
        "print(\"Predicting...\")\n",
        "t2 = time.time()\n",
        "y_pred = clf_svm.predict(X_test)\n",
        "t3 = time.time()\n",
        "print(\"Prediction Time:\", t3 - t2)\n",
        "print(\"\\n\")\n",
        "y_pred_list.append(y_pred)\n",
        "best_pred_list.append(y_pred)\n",
        "\n",
        "# Get the performance metrics.\n",
        "print(\"Evaluating...\")\n",
        "print(\"Num. Iterations:\", clf_svm['classifier'].n_iter_)\n",
        "print(\"Accuracy:\", accuracy_score(y_pred, Y_test))\n",
        "print(\"Precision:\", precision_score(y_pred, Y_test))\n",
        "print(\"Recall:\", recall_score(y_pred, Y_test))\n",
        "print(\"F1 Score:\", f1_score(y_pred, Y_test))\n",
        "print(\"Confusion Matrix:\", confusion_matrix(y_pred, Y_test))"
      ],
      "execution_count": 13,
      "outputs": [
        {
          "output_type": "stream",
          "name": "stdout",
          "text": [
            "Predicting...\n",
            "Prediction Time: 0.013748645782470703\n",
            "\n",
            "\n",
            "Evaluating...\n",
            "Num. Iterations: 325\n",
            "Accuracy: 0.9802690582959641\n",
            "Precision: 0.86\n",
            "Recall: 0.9923076923076923\n",
            "F1 Score: 0.9214285714285715\n",
            "Confusion Matrix: [[964  21]\n",
            " [  1 129]]\n"
          ]
        }
      ]
    },
    {
      "cell_type": "code",
      "metadata": {
        "id": "ZNaY0FvnkYKd"
      },
      "source": [
        "# Save the metrics.\n",
        "acc_list.append(accuracy_score(y_pred, Y_test))\n",
        "p_list.append(precision_score(y_pred, Y_test))\n",
        "r_list.append(recall_score(y_pred, Y_test))\n",
        "f1_list.append(f1_score(y_pred, Y_test))\n",
        "cm_list.append(confusion_matrix(y_pred, Y_test))\n",
        "time_train_list.append(t1 - t0)\n",
        "time_pred_list.append(t3 - t2)"
      ],
      "execution_count": 14,
      "outputs": []
    },
    {
      "cell_type": "markdown",
      "metadata": {
        "id": "Ed7VAqtykaT0"
      },
      "source": [
        "### **Random Forest**"
      ]
    },
    {
      "cell_type": "code",
      "metadata": {
        "colab": {
          "base_uri": "https://localhost:8080/"
        },
        "id": "RT02YBazkcOv",
        "outputId": "3f76a128-7439-4cef-8fa9-994c66963e18"
      },
      "source": [
        "# Set up the classifier.\n",
        "clf_forest = Pipeline(steps=[\n",
        "  ('preprocessing', CountVectorizer()),\n",
        "  ('classifier', RandomForestClassifier(random_state=42))\n",
        "  ])\n",
        "\n",
        "# Train the model.\n",
        "print(\"Training...\")\n",
        "t0 = time.time()\n",
        "clf_forest.fit(X_train, Y_train)\n",
        "t1 = time.time()\n",
        "print(\"Training Time:\", t1 - t0)"
      ],
      "execution_count": 15,
      "outputs": [
        {
          "output_type": "stream",
          "name": "stdout",
          "text": [
            "Training...\n",
            "Training Time: 0.9603204727172852\n"
          ]
        }
      ]
    },
    {
      "cell_type": "code",
      "metadata": {
        "colab": {
          "base_uri": "https://localhost:8080/"
        },
        "id": "QrhKw3Klkdvu",
        "outputId": "d3f48746-3862-48d1-edd8-75d322c0bdc8"
      },
      "source": [
        "# Predict from the test set.\n",
        "print(\"Predicting...\")\n",
        "t2 = time.time()\n",
        "y_pred = clf_forest.predict(X_test)\n",
        "t3 = time.time()\n",
        "print(\"Prediction Time:\", t3 - t2)\n",
        "print(\"\\n\")\n",
        "y_pred_list.append(y_pred)\n",
        "\n",
        "# Get the performance metrics.\n",
        "print(\"Evaluating...\")\n",
        "print(\"Accuracy:\", accuracy_score(y_pred, Y_test))\n",
        "print(\"Precision:\", precision_score(y_pred, Y_test))\n",
        "print(\"Recall:\", recall_score(y_pred, Y_test))\n",
        "print(\"F1 Score:\", f1_score(y_pred, Y_test))\n",
        "print(\"Confusion Matrix:\", confusion_matrix(y_pred, Y_test))"
      ],
      "execution_count": 16,
      "outputs": [
        {
          "output_type": "stream",
          "name": "stdout",
          "text": [
            "Predicting...\n",
            "Prediction Time: 0.0705409049987793\n",
            "\n",
            "\n",
            "Evaluating...\n",
            "Accuracy: 0.9775784753363229\n",
            "Precision: 0.8333333333333334\n",
            "Recall: 1.0\n",
            "F1 Score: 0.9090909090909091\n",
            "Confusion Matrix: [[965  25]\n",
            " [  0 125]]\n"
          ]
        }
      ]
    },
    {
      "cell_type": "code",
      "metadata": {
        "id": "G_JElrTZke7U"
      },
      "source": [
        "# Save the metrics.\n",
        "acc_list.append(accuracy_score(y_pred, Y_test))\n",
        "p_list.append(precision_score(y_pred, Y_test))\n",
        "r_list.append(recall_score(y_pred, Y_test))\n",
        "f1_list.append(f1_score(y_pred, Y_test))\n",
        "cm_list.append(confusion_matrix(y_pred, Y_test))\n",
        "time_train_list.append(t1 - t0)\n",
        "time_pred_list.append(t3 - t2)"
      ],
      "execution_count": 17,
      "outputs": []
    },
    {
      "cell_type": "markdown",
      "metadata": {
        "id": "JpvcDnkHkgWE"
      },
      "source": [
        "### **Decision Tree**"
      ]
    },
    {
      "cell_type": "code",
      "metadata": {
        "colab": {
          "base_uri": "https://localhost:8080/"
        },
        "id": "X5Pd8CD-kgD4",
        "outputId": "b8bc8a7d-e6f1-4388-da17-88849bec8064"
      },
      "source": [
        "# Set up the classifier.\n",
        "clf_tree = Pipeline(steps=[\n",
        "  ('preprocessing', CountVectorizer()),\n",
        "  ('classifier', DecisionTreeClassifier(random_state=42))\n",
        "  ])\n",
        "\n",
        "# Train the model.\n",
        "print(\"Training...\")\n",
        "t0 = time.time()\n",
        "clf_tree.fit(X_train, Y_train)\n",
        "t1 = time.time()\n",
        "print(\"Training Time:\", t1 - t0)"
      ],
      "execution_count": 18,
      "outputs": [
        {
          "output_type": "stream",
          "name": "stdout",
          "text": [
            "Training...\n",
            "Training Time: 0.17173314094543457\n"
          ]
        }
      ]
    },
    {
      "cell_type": "code",
      "metadata": {
        "colab": {
          "base_uri": "https://localhost:8080/"
        },
        "id": "tVDzvI7qkjkT",
        "outputId": "86d221e2-d3e4-45e8-d599-5f76968ef6d5"
      },
      "source": [
        "# Predict from the test set.\n",
        "print(\"Predicting...\")\n",
        "t2 = time.time()\n",
        "y_pred = clf_tree.predict(X_test)\n",
        "t3 = time.time()\n",
        "print(\"Prediction Time:\", t3 - t2)\n",
        "print(\"\\n\")\n",
        "y_pred_list.append(y_pred)\n",
        "\n",
        "# Get the performance metrics.\n",
        "print(\"Evaluating...\")\n",
        "print(\"Accuracy:\", accuracy_score(y_pred, Y_test))\n",
        "print(\"Precision:\", precision_score(y_pred, Y_test))\n",
        "print(\"Recall:\", recall_score(y_pred, Y_test))\n",
        "print(\"F1 Score:\", f1_score(y_pred, Y_test))\n",
        "print(\"Confusion Matrix:\", confusion_matrix(y_pred, Y_test))"
      ],
      "execution_count": 19,
      "outputs": [
        {
          "output_type": "stream",
          "name": "stdout",
          "text": [
            "Predicting...\n",
            "Prediction Time: 0.020740747451782227\n",
            "\n",
            "\n",
            "Evaluating...\n",
            "Accuracy: 0.9730941704035875\n",
            "Precision: 0.8466666666666667\n",
            "Recall: 0.9477611940298507\n",
            "F1 Score: 0.8943661971830985\n",
            "Confusion Matrix: [[958  23]\n",
            " [  7 127]]\n"
          ]
        }
      ]
    },
    {
      "cell_type": "code",
      "metadata": {
        "id": "HK1eB53gkkzj"
      },
      "source": [
        "# Save the metrics.\n",
        "acc_list.append(accuracy_score(y_pred, Y_test))\n",
        "p_list.append(precision_score(y_pred, Y_test))\n",
        "r_list.append(recall_score(y_pred, Y_test))\n",
        "f1_list.append(f1_score(y_pred, Y_test))\n",
        "cm_list.append(confusion_matrix(y_pred, Y_test))\n",
        "time_train_list.append(t1 - t0)\n",
        "time_pred_list.append(t3 - t2)"
      ],
      "execution_count": 20,
      "outputs": []
    },
    {
      "cell_type": "markdown",
      "metadata": {
        "id": "YOiN__0Rko4s"
      },
      "source": [
        "### **AdaBoost**"
      ]
    },
    {
      "cell_type": "code",
      "metadata": {
        "colab": {
          "base_uri": "https://localhost:8080/"
        },
        "id": "dfg193M5komX",
        "outputId": "d4b91bb9-be2a-402f-9cc4-e4fb2eb53785"
      },
      "source": [
        "# Set up the classifier.\n",
        "clf_adaboost = Pipeline(steps=[\n",
        "  ('preprocessing', CountVectorizer()),\n",
        "  ('classifier', AdaBoostClassifier(random_state=42))\n",
        "  ])\n",
        "\n",
        "# Train the model.\n",
        "print(\"Training...\")\n",
        "t0 = time.time()\n",
        "clf_adaboost.fit(X_train, Y_train)\n",
        "t1 = time.time()\n",
        "print(\"Training Time:\", t1 - t0)"
      ],
      "execution_count": 21,
      "outputs": [
        {
          "output_type": "stream",
          "name": "stdout",
          "text": [
            "Training...\n",
            "Training Time: 0.3680229187011719\n"
          ]
        }
      ]
    },
    {
      "cell_type": "code",
      "metadata": {
        "colab": {
          "base_uri": "https://localhost:8080/"
        },
        "id": "cYuR2PWUksPv",
        "outputId": "ad754bf7-cf8e-4e78-9849-52b2e46913ac"
      },
      "source": [
        "# Predict from the test set.\n",
        "print(\"Predicting...\")\n",
        "t2 = time.time()\n",
        "y_pred = clf_adaboost.predict(X_test)\n",
        "t3 = time.time()\n",
        "print(\"Prediction Time:\", t3 - t2)\n",
        "print(\"\\n\")\n",
        "y_pred_list.append(y_pred)\n",
        "\n",
        "# Get the performance metrics.\n",
        "print(\"Evaluating...\")\n",
        "print(\"Accuracy:\", accuracy_score(y_pred, Y_test))\n",
        "print(\"Precision:\", precision_score(y_pred, Y_test))\n",
        "print(\"Recall:\", recall_score(y_pred, Y_test))\n",
        "print(\"F1 Score:\", f1_score(y_pred, Y_test))\n",
        "print(\"Confusion Matrix:\", confusion_matrix(y_pred, Y_test))"
      ],
      "execution_count": 22,
      "outputs": [
        {
          "output_type": "stream",
          "name": "stdout",
          "text": [
            "Predicting...\n",
            "Prediction Time: 0.039951324462890625\n",
            "\n",
            "\n",
            "Evaluating...\n",
            "Accuracy: 0.97847533632287\n",
            "Precision: 0.8466666666666667\n",
            "Recall: 0.9921875\n",
            "F1 Score: 0.9136690647482014\n",
            "Confusion Matrix: [[964  23]\n",
            " [  1 127]]\n"
          ]
        }
      ]
    },
    {
      "cell_type": "code",
      "metadata": {
        "id": "W5-xqTBdktoI"
      },
      "source": [
        "# Save the metrics.\n",
        "acc_list.append(accuracy_score(y_pred, Y_test))\n",
        "p_list.append(precision_score(y_pred, Y_test))\n",
        "r_list.append(recall_score(y_pred, Y_test))\n",
        "f1_list.append(f1_score(y_pred, Y_test))\n",
        "cm_list.append(confusion_matrix(y_pred, Y_test))\n",
        "time_train_list.append(t1 - t0)\n",
        "time_pred_list.append(t3 - t2)"
      ],
      "execution_count": 23,
      "outputs": []
    },
    {
      "cell_type": "markdown",
      "metadata": {
        "id": "wS3ittajku_h"
      },
      "source": [
        "### ***k*-Nearest Neighbors**"
      ]
    },
    {
      "cell_type": "code",
      "metadata": {
        "colab": {
          "base_uri": "https://localhost:8080/"
        },
        "id": "pUB9VpAXkx-J",
        "outputId": "270e45bd-a11d-4b22-be55-a7c569d04aa1"
      },
      "source": [
        "# Set up the classifier.\n",
        "clf_knn = Pipeline(steps=[\n",
        "  ('preprocessing', CountVectorizer()),\n",
        "  ('classifier', KNeighborsClassifier())\n",
        "  ])\n",
        "\n",
        "# Train the model.\n",
        "print(\"Training...\")\n",
        "t0 = time.time()\n",
        "clf_knn.fit(X_train, Y_train)\n",
        "t1 = time.time()\n",
        "print(\"Training Time:\", t1 - t0)"
      ],
      "execution_count": 24,
      "outputs": [
        {
          "output_type": "stream",
          "name": "stdout",
          "text": [
            "Training...\n",
            "Training Time: 0.06270098686218262\n"
          ]
        }
      ]
    },
    {
      "cell_type": "code",
      "metadata": {
        "colab": {
          "base_uri": "https://localhost:8080/"
        },
        "id": "pjoC8eRhkzRp",
        "outputId": "214f59c8-2841-49cf-f011-bc9d99ff6af4"
      },
      "source": [
        "# Predict from the test set.\n",
        "print(\"Predicting...\")\n",
        "t2 = time.time()\n",
        "y_pred = clf_knn.predict(X_test)\n",
        "t3 = time.time()\n",
        "print(\"Prediction Time:\", t3 - t2)\n",
        "print(\"\\n\")\n",
        "y_pred_list.append(y_pred)\n",
        "\n",
        "# Get the performance metrics.\n",
        "print(\"Evaluating...\")\n",
        "print(\"Accuracy:\", accuracy_score(y_pred, Y_test))\n",
        "print(\"Precision:\", precision_score(y_pred, Y_test))\n",
        "print(\"Recall:\", recall_score(y_pred, Y_test))\n",
        "print(\"F1 Score:\", f1_score(y_pred, Y_test))\n",
        "print(\"Confusion Matrix:\", confusion_matrix(y_pred, Y_test))"
      ],
      "execution_count": 25,
      "outputs": [
        {
          "output_type": "stream",
          "name": "stdout",
          "text": [
            "Predicting...\n",
            "Prediction Time: 0.1607203483581543\n",
            "\n",
            "\n",
            "Evaluating...\n",
            "Accuracy: 0.9174887892376682\n",
            "Precision: 0.38666666666666666\n",
            "Recall: 1.0\n",
            "F1 Score: 0.5576923076923077\n",
            "Confusion Matrix: [[965  92]\n",
            " [  0  58]]\n"
          ]
        }
      ]
    },
    {
      "cell_type": "code",
      "metadata": {
        "id": "exnKozckk0uq"
      },
      "source": [
        "# Save the metrics.\n",
        "acc_list.append(accuracy_score(y_pred, Y_test))\n",
        "p_list.append(precision_score(y_pred, Y_test))\n",
        "r_list.append(recall_score(y_pred, Y_test))\n",
        "f1_list.append(f1_score(y_pred, Y_test))\n",
        "cm_list.append(confusion_matrix(y_pred, Y_test))\n",
        "time_train_list.append(t1 - t0)\n",
        "time_pred_list.append(t3 - t2)"
      ],
      "execution_count": 26,
      "outputs": []
    },
    {
      "cell_type": "markdown",
      "metadata": {
        "id": "9GaDDTFPk35z"
      },
      "source": [
        "### **Multinomial Naïve Bayes**"
      ]
    },
    {
      "cell_type": "code",
      "metadata": {
        "colab": {
          "base_uri": "https://localhost:8080/"
        },
        "id": "N6attnOIk5z8",
        "outputId": "3bf41f81-542e-40c7-9e67-a71d27ee6e95"
      },
      "source": [
        "# Set up the classifier.\n",
        "clf_mnb = Pipeline(steps=[\n",
        "  ('preprocessing', CountVectorizer()),\n",
        "  ('classifier', MultinomialNB())\n",
        "  ])\n",
        "\n",
        "# Train the model.\n",
        "print(\"Training...\")\n",
        "t0 = time.time()\n",
        "clf_mnb.fit(X_train.to_numpy(), Y_train)\n",
        "t1 = time.time()\n",
        "print(\"Training Time:\", t1 - t0)"
      ],
      "execution_count": 27,
      "outputs": [
        {
          "output_type": "stream",
          "name": "stdout",
          "text": [
            "Training...\n",
            "Training Time: 0.08011960983276367\n"
          ]
        }
      ]
    },
    {
      "cell_type": "code",
      "metadata": {
        "colab": {
          "base_uri": "https://localhost:8080/"
        },
        "id": "QoguoVBVk6vY",
        "outputId": "6247173f-6e5d-46a0-cba9-b8bff4445d7c"
      },
      "source": [
        "# Predict from the test set.\n",
        "print(\"Predicting...\")\n",
        "t2 = time.time()\n",
        "y_pred = clf_mnb.predict(X_test)\n",
        "t3 = time.time()\n",
        "print(\"Prediction Time:\", t3 - t2)\n",
        "print(\"\\n\")\n",
        "y_pred_list.append(y_pred)\n",
        "best_pred_list.append(y_pred)\n",
        "\n",
        "# Get the performance metrics.\n",
        "print(\"Evaluating...\")\n",
        "print(\"Accuracy:\", accuracy_score(y_pred, Y_test))\n",
        "print(\"Precision:\", precision_score(y_pred, Y_test))\n",
        "print(\"Recall:\", recall_score(y_pred, Y_test))\n",
        "print(\"F1 Score:\", f1_score(y_pred, Y_test))\n",
        "print(\"Confusion Matrix:\", confusion_matrix(y_pred, Y_test))"
      ],
      "execution_count": 28,
      "outputs": [
        {
          "output_type": "stream",
          "name": "stdout",
          "text": [
            "Predicting...\n",
            "Prediction Time: 0.02136683464050293\n",
            "\n",
            "\n",
            "Evaluating...\n",
            "Accuracy: 0.9802690582959641\n",
            "Precision: 0.9\n",
            "Recall: 0.9507042253521126\n",
            "F1 Score: 0.9246575342465754\n",
            "Confusion Matrix: [[958  15]\n",
            " [  7 135]]\n"
          ]
        }
      ]
    },
    {
      "cell_type": "code",
      "metadata": {
        "id": "hR5f6wYXk85v"
      },
      "source": [
        "# Save the metrics.\n",
        "acc_list.append(accuracy_score(y_pred, Y_test))\n",
        "p_list.append(precision_score(y_pred, Y_test))\n",
        "r_list.append(recall_score(y_pred, Y_test))\n",
        "f1_list.append(f1_score(y_pred, Y_test))\n",
        "cm_list.append(confusion_matrix(y_pred, Y_test))\n",
        "time_train_list.append(t1 - t0)\n",
        "time_pred_list.append(t3 - t2)"
      ],
      "execution_count": 29,
      "outputs": []
    },
    {
      "cell_type": "markdown",
      "metadata": {
        "id": "6bf0qok4lFr9"
      },
      "source": [
        "## **Classifier Ensembles**\n",
        "---"
      ]
    },
    {
      "cell_type": "markdown",
      "metadata": {
        "id": "aPErEgIMlLWb"
      },
      "source": [
        "### **Ensemble #1: Majority Vote from All Classifiers**"
      ]
    },
    {
      "cell_type": "code",
      "metadata": {
        "colab": {
          "base_uri": "https://localhost:8080/"
        },
        "id": "DQgexatBlKeB",
        "outputId": "58f7eeb3-6afe-4d37-86b4-ae2dfe3f99e7"
      },
      "source": [
        "num_samples = len(X_test)\n",
        "num_clf = len(y_pred_list)\n",
        "total_votes = []\n",
        "\n",
        "for i in range(num_samples):\n",
        "\n",
        "  pred = 0\n",
        "\n",
        "  for y_pred in y_pred_list:\n",
        "    pred += y_pred[i]\n",
        "\n",
        "  pred = pred / num_clf\n",
        "\n",
        "  # Take the majority vote.\n",
        "  if pred > 0.5:\n",
        "    pred = 1\n",
        "  else:\n",
        "    pred = 0\n",
        "\n",
        "  total_votes.append(pred)\n",
        "\n",
        "print(\"Votes:\", total_votes)"
      ],
      "execution_count": 30,
      "outputs": [
        {
          "output_type": "stream",
          "name": "stdout",
          "text": [
            "Votes: [0, 0, 0, 0, 1, 0, 0, 0, 0, 0, 0, 1, 0, 0, 0, 0, 0, 1, 0, 0, 0, 0, 0, 0, 1, 0, 0, 0, 0, 0, 0, 0, 1, 0, 0, 0, 0, 0, 0, 0, 0, 0, 1, 0, 0, 0, 0, 0, 0, 0, 1, 0, 1, 0, 0, 0, 0, 0, 0, 0, 0, 1, 0, 0, 0, 0, 0, 0, 0, 1, 0, 0, 0, 0, 0, 1, 0, 0, 0, 0, 0, 0, 0, 0, 0, 0, 0, 0, 0, 0, 0, 0, 0, 0, 0, 0, 0, 0, 0, 0, 0, 0, 0, 0, 0, 0, 0, 0, 0, 0, 0, 0, 0, 0, 0, 0, 0, 0, 0, 0, 0, 0, 0, 1, 0, 0, 0, 0, 0, 1, 0, 0, 0, 0, 0, 0, 0, 0, 0, 0, 0, 0, 0, 1, 0, 0, 0, 0, 0, 0, 0, 0, 0, 0, 0, 0, 0, 0, 0, 0, 0, 0, 0, 1, 0, 1, 0, 1, 0, 0, 0, 0, 0, 0, 0, 0, 0, 0, 0, 0, 0, 0, 1, 0, 0, 0, 0, 0, 0, 0, 1, 0, 0, 0, 0, 0, 0, 1, 0, 0, 0, 0, 0, 0, 0, 0, 0, 0, 0, 0, 0, 1, 0, 0, 0, 0, 0, 0, 0, 0, 0, 1, 0, 0, 1, 0, 0, 0, 0, 0, 0, 0, 0, 0, 1, 0, 0, 0, 0, 0, 1, 0, 1, 0, 0, 0, 0, 0, 0, 0, 0, 0, 0, 0, 0, 0, 0, 0, 0, 0, 0, 1, 0, 1, 0, 0, 0, 0, 0, 0, 0, 0, 0, 0, 0, 1, 0, 0, 1, 0, 0, 0, 0, 0, 0, 0, 0, 0, 0, 0, 0, 0, 0, 0, 0, 1, 1, 1, 0, 0, 0, 0, 0, 0, 1, 0, 0, 0, 0, 0, 0, 0, 0, 0, 0, 0, 0, 0, 0, 0, 0, 0, 0, 0, 0, 1, 0, 0, 0, 0, 0, 0, 0, 0, 0, 0, 0, 0, 0, 1, 0, 0, 0, 0, 0, 0, 0, 0, 0, 0, 0, 0, 0, 0, 0, 0, 0, 0, 0, 0, 0, 0, 1, 0, 0, 0, 0, 0, 0, 0, 0, 0, 0, 0, 0, 0, 0, 0, 0, 0, 0, 0, 0, 1, 0, 0, 0, 0, 0, 0, 1, 0, 0, 0, 1, 1, 0, 0, 0, 0, 0, 0, 0, 0, 0, 0, 0, 0, 0, 0, 0, 0, 0, 0, 1, 0, 0, 0, 0, 0, 0, 0, 0, 0, 0, 1, 0, 0, 1, 0, 0, 0, 0, 0, 0, 0, 1, 0, 0, 0, 1, 0, 0, 0, 1, 0, 0, 0, 0, 0, 0, 0, 0, 0, 0, 0, 0, 1, 0, 0, 0, 0, 0, 1, 0, 1, 0, 0, 0, 0, 0, 0, 0, 0, 0, 0, 0, 0, 1, 0, 0, 0, 0, 0, 0, 0, 0, 0, 0, 0, 0, 0, 1, 0, 0, 0, 0, 0, 0, 0, 1, 0, 0, 0, 1, 0, 0, 0, 0, 0, 0, 0, 0, 0, 0, 0, 0, 0, 0, 0, 0, 0, 0, 0, 0, 0, 0, 0, 1, 0, 0, 1, 0, 0, 1, 0, 0, 0, 0, 1, 0, 0, 0, 0, 0, 0, 0, 0, 0, 0, 0, 0, 0, 0, 0, 1, 0, 0, 0, 0, 0, 0, 0, 0, 1, 0, 0, 0, 0, 0, 0, 0, 0, 0, 0, 0, 0, 0, 0, 0, 1, 0, 0, 0, 1, 0, 0, 1, 0, 0, 0, 0, 0, 0, 0, 0, 0, 1, 0, 1, 0, 0, 0, 0, 0, 0, 1, 0, 0, 1, 0, 0, 0, 0, 0, 0, 1, 0, 0, 1, 0, 0, 0, 0, 0, 0, 1, 0, 0, 0, 0, 0, 0, 0, 0, 0, 1, 0, 0, 0, 0, 0, 0, 0, 0, 0, 0, 0, 0, 0, 0, 1, 0, 0, 0, 1, 0, 0, 1, 0, 0, 0, 0, 1, 0, 1, 0, 0, 0, 0, 0, 0, 0, 0, 0, 0, 0, 0, 0, 0, 0, 0, 0, 0, 0, 0, 0, 0, 0, 1, 0, 1, 0, 0, 0, 0, 0, 0, 0, 0, 0, 0, 0, 0, 0, 0, 0, 0, 0, 0, 0, 1, 0, 0, 0, 0, 0, 0, 0, 0, 0, 0, 0, 0, 1, 0, 0, 0, 1, 0, 0, 1, 0, 0, 0, 0, 0, 0, 0, 0, 0, 0, 0, 1, 0, 0, 0, 0, 0, 0, 0, 0, 0, 1, 0, 0, 0, 0, 0, 1, 0, 0, 0, 0, 0, 0, 0, 0, 0, 0, 0, 0, 0, 0, 0, 0, 0, 0, 0, 0, 0, 0, 0, 0, 0, 0, 0, 0, 0, 1, 0, 0, 0, 0, 0, 0, 0, 0, 0, 0, 0, 1, 1, 0, 0, 0, 0, 0, 0, 1, 1, 0, 0, 0, 0, 1, 1, 0, 0, 0, 1, 0, 0, 0, 0, 0, 0, 0, 0, 0, 0, 0, 0, 0, 0, 0, 0, 0, 0, 0, 0, 0, 0, 0, 0, 0, 0, 0, 0, 0, 0, 0, 0, 0, 0, 0, 0, 0, 0, 0, 1, 0, 0, 0, 0, 0, 0, 0, 0, 0, 0, 0, 0, 0, 0, 0, 0, 0, 1, 0, 0, 0, 0, 0, 1, 0, 1, 1, 0, 0, 0, 1, 0, 0, 0, 0, 0, 0, 0, 0, 0, 0, 0, 0, 0, 0, 0, 0, 0, 0, 0, 0, 0, 0, 1, 0, 0, 0, 0, 0, 0, 0, 0, 0, 0, 0, 0, 0, 0, 0, 0, 0, 0, 0, 0, 0, 1, 0, 0, 0, 0, 0, 0, 0, 0, 0, 0, 0, 0, 1, 0, 0, 0, 0, 0, 0, 0, 0, 0, 0, 0, 0, 0, 0, 0, 1, 0, 0, 0, 0, 0, 0, 0, 1, 0, 0, 0, 0, 0, 0, 0, 0, 0, 1, 0, 1, 0, 0, 0, 0, 0, 1, 0, 0, 0, 0, 0, 0, 0, 0, 0, 0, 1, 0, 0, 0, 1, 0, 0, 0, 0, 1, 1, 0, 0, 0, 0, 0, 0, 0, 0, 0, 0, 0, 0, 0, 0, 0, 0, 0, 0, 0, 1, 0, 0, 1, 0, 0, 0, 0, 0, 0, 0, 0, 1, 0, 0, 0, 0, 0, 1, 1, 1, 0, 0, 0, 0, 0, 1, 0, 0, 0, 0, 0, 0, 1, 0, 0, 0, 0, 0, 0, 1, 0, 0, 0, 0, 0, 0, 0, 0, 0, 0, 0, 1, 1, 0, 0, 1, 1, 0, 0, 0, 1, 0, 0, 0, 0, 0, 0, 0, 0, 0, 0, 0, 0, 1, 0, 0, 0, 0, 0, 0, 0, 1]\n"
          ]
        }
      ]
    },
    {
      "cell_type": "code",
      "metadata": {
        "colab": {
          "base_uri": "https://localhost:8080/"
        },
        "id": "LlK1AvBnlbi1",
        "outputId": "a83806aa-a376-4050-9ed4-7ac050e64ccf"
      },
      "source": [
        "# Evaluate the ensemble.\n",
        "print(\"Evaluating ensemble...\")\n",
        "print(\"Accuracy:\", accuracy_score(total_votes, Y_test))\n",
        "print(\"Precision:\", precision_score(total_votes, Y_test))\n",
        "print(\"Recall:\", recall_score(total_votes, Y_test))\n",
        "print(\"F1 Score:\", f1_score(total_votes, Y_test))\n",
        "print(\"Confusion Matrix:\", confusion_matrix(total_votes, Y_test))"
      ],
      "execution_count": 31,
      "outputs": [
        {
          "output_type": "stream",
          "name": "stdout",
          "text": [
            "Evaluating ensemble...\n",
            "Accuracy: 0.979372197309417\n",
            "Precision: 0.8466666666666667\n",
            "Recall: 1.0\n",
            "F1 Score: 0.9169675090252708\n",
            "Confusion Matrix: [[965  23]\n",
            " [  0 127]]\n"
          ]
        }
      ]
    },
    {
      "cell_type": "code",
      "metadata": {
        "id": "TNHipmaOl3BW"
      },
      "source": [
        "# Save the metrics.\n",
        "acc_list.append(accuracy_score(total_votes, Y_test))\n",
        "p_list.append(precision_score(total_votes, Y_test))\n",
        "r_list.append(recall_score(total_votes, Y_test))\n",
        "f1_list.append(f1_score(total_votes, Y_test))\n",
        "cm_list.append(confusion_matrix(total_votes, Y_test))"
      ],
      "execution_count": 32,
      "outputs": []
    },
    {
      "cell_type": "markdown",
      "metadata": {
        "id": "UQC4BgKFlXPe"
      },
      "source": [
        "### **Ensemble #2: Majority Vote from the Top 3 Classifiers**"
      ]
    },
    {
      "cell_type": "code",
      "metadata": {
        "colab": {
          "base_uri": "https://localhost:8080/"
        },
        "id": "L5oaBq65laNs",
        "outputId": "9795e5ef-e635-4315-99df-5784f5857086"
      },
      "source": [
        "num_samples = len(X_test)\n",
        "num_clf = len(best_pred_list)\n",
        "total_votes = []\n",
        "\n",
        "for i in range(num_samples):\n",
        "\n",
        "  pred = 0\n",
        "\n",
        "  for y_pred in best_pred_list:\n",
        "    pred += y_pred[i]\n",
        "\n",
        "  pred = pred / num_clf\n",
        "\n",
        "  # Take the majority vote.\n",
        "  if pred > 0.5:\n",
        "    pred = 1\n",
        "  else:\n",
        "    pred = 0\n",
        "\n",
        "  total_votes.append(pred)\n",
        "\n",
        "print(total_votes)"
      ],
      "execution_count": 33,
      "outputs": [
        {
          "output_type": "stream",
          "name": "stdout",
          "text": [
            "[0, 0, 0, 0, 1, 0, 0, 0, 0, 0, 0, 1, 0, 0, 0, 0, 0, 1, 0, 0, 0, 0, 0, 0, 1, 0, 0, 0, 0, 0, 0, 0, 1, 0, 0, 0, 0, 0, 0, 0, 0, 0, 1, 0, 0, 0, 0, 0, 0, 0, 1, 0, 1, 0, 0, 0, 0, 0, 0, 0, 0, 1, 0, 0, 0, 0, 0, 0, 0, 1, 0, 0, 0, 0, 0, 1, 0, 0, 0, 0, 0, 0, 0, 0, 0, 0, 0, 0, 0, 0, 0, 0, 0, 0, 0, 0, 0, 0, 0, 0, 1, 0, 0, 0, 0, 0, 0, 0, 0, 0, 0, 0, 0, 0, 0, 0, 0, 0, 0, 0, 0, 0, 0, 1, 0, 0, 0, 0, 0, 1, 0, 0, 0, 0, 0, 0, 0, 0, 0, 0, 0, 0, 0, 1, 0, 0, 0, 0, 0, 0, 0, 0, 0, 0, 0, 0, 0, 0, 0, 0, 0, 0, 0, 1, 0, 1, 0, 1, 0, 0, 0, 0, 0, 0, 0, 0, 0, 0, 0, 0, 0, 0, 1, 0, 0, 0, 0, 0, 0, 0, 1, 0, 0, 0, 0, 0, 0, 1, 0, 0, 0, 0, 0, 0, 0, 0, 0, 0, 0, 0, 0, 1, 0, 0, 0, 0, 0, 0, 0, 0, 0, 1, 0, 0, 1, 0, 0, 0, 0, 0, 0, 0, 0, 0, 1, 0, 0, 0, 0, 0, 1, 0, 1, 0, 0, 0, 0, 0, 0, 0, 0, 0, 0, 0, 0, 0, 0, 0, 0, 0, 0, 1, 0, 1, 0, 0, 0, 0, 0, 0, 0, 0, 0, 0, 0, 1, 0, 0, 1, 0, 0, 0, 0, 0, 0, 0, 0, 0, 0, 0, 0, 0, 0, 0, 0, 1, 1, 1, 0, 0, 0, 0, 0, 0, 1, 0, 0, 0, 0, 0, 0, 0, 0, 0, 0, 0, 0, 0, 0, 0, 0, 0, 0, 0, 0, 1, 0, 0, 0, 0, 0, 0, 0, 0, 0, 0, 0, 0, 0, 1, 0, 0, 0, 0, 0, 0, 0, 0, 0, 0, 0, 0, 0, 0, 0, 0, 0, 0, 0, 0, 0, 0, 1, 0, 0, 0, 0, 0, 0, 0, 0, 0, 0, 0, 0, 0, 0, 0, 0, 0, 0, 0, 0, 1, 0, 0, 0, 0, 0, 0, 1, 0, 0, 0, 1, 1, 0, 0, 0, 0, 0, 0, 0, 0, 0, 0, 0, 0, 0, 0, 0, 0, 0, 0, 1, 0, 0, 0, 0, 0, 0, 0, 0, 0, 0, 1, 0, 0, 1, 0, 0, 0, 0, 0, 0, 0, 1, 0, 0, 0, 1, 0, 0, 0, 1, 0, 0, 0, 0, 0, 0, 0, 0, 0, 0, 0, 0, 1, 0, 0, 0, 0, 0, 1, 0, 1, 0, 0, 0, 0, 0, 0, 0, 0, 0, 0, 0, 0, 1, 0, 0, 0, 0, 0, 0, 0, 0, 0, 0, 0, 0, 0, 1, 0, 0, 0, 0, 0, 0, 0, 1, 0, 0, 0, 1, 0, 0, 0, 0, 0, 0, 0, 0, 0, 0, 0, 0, 0, 0, 0, 0, 0, 0, 0, 0, 0, 0, 0, 1, 0, 0, 1, 0, 0, 1, 0, 0, 0, 0, 1, 0, 0, 0, 0, 0, 0, 0, 0, 0, 0, 0, 0, 0, 0, 0, 1, 0, 0, 0, 0, 0, 0, 0, 0, 1, 0, 0, 0, 0, 0, 0, 0, 0, 0, 0, 0, 0, 0, 0, 0, 1, 0, 0, 0, 1, 0, 0, 1, 0, 0, 0, 0, 0, 0, 0, 0, 0, 1, 0, 1, 0, 0, 0, 0, 0, 0, 1, 0, 0, 1, 0, 0, 0, 0, 0, 0, 1, 0, 0, 1, 0, 0, 0, 0, 0, 0, 1, 0, 0, 0, 0, 0, 0, 0, 0, 0, 1, 0, 1, 0, 1, 0, 0, 0, 0, 0, 0, 0, 0, 0, 0, 1, 0, 0, 0, 1, 0, 0, 1, 0, 0, 0, 0, 1, 0, 1, 0, 0, 0, 0, 0, 0, 0, 0, 0, 0, 0, 0, 0, 0, 0, 0, 0, 0, 0, 0, 0, 0, 0, 1, 0, 1, 0, 0, 0, 0, 0, 0, 0, 0, 0, 0, 0, 0, 0, 0, 0, 0, 0, 0, 0, 1, 0, 0, 0, 0, 0, 0, 0, 0, 0, 0, 0, 0, 1, 0, 0, 0, 1, 0, 0, 1, 0, 0, 0, 0, 0, 0, 0, 0, 0, 0, 0, 1, 0, 0, 0, 0, 0, 0, 0, 0, 0, 1, 0, 0, 0, 0, 0, 1, 0, 0, 0, 0, 0, 0, 0, 0, 0, 0, 0, 0, 0, 0, 0, 0, 0, 0, 0, 0, 0, 0, 0, 0, 0, 0, 0, 0, 0, 1, 0, 0, 0, 0, 0, 0, 0, 0, 0, 0, 0, 1, 1, 0, 0, 0, 0, 0, 0, 1, 1, 0, 0, 0, 0, 1, 1, 0, 0, 0, 1, 0, 0, 0, 0, 0, 0, 0, 0, 0, 0, 0, 0, 0, 0, 0, 0, 0, 0, 0, 0, 0, 0, 0, 0, 0, 0, 0, 0, 0, 0, 0, 0, 0, 0, 0, 0, 0, 0, 0, 1, 0, 0, 0, 0, 0, 0, 0, 0, 0, 0, 0, 0, 0, 0, 0, 0, 0, 1, 0, 0, 0, 0, 0, 1, 0, 1, 1, 0, 0, 0, 1, 0, 0, 0, 0, 0, 0, 0, 0, 1, 0, 0, 0, 0, 0, 0, 0, 0, 0, 0, 0, 0, 0, 1, 0, 0, 0, 0, 0, 0, 0, 0, 0, 0, 0, 0, 0, 0, 0, 0, 0, 0, 0, 0, 0, 1, 0, 0, 0, 0, 0, 0, 0, 0, 0, 0, 0, 0, 1, 0, 0, 0, 0, 0, 0, 0, 0, 0, 0, 0, 0, 0, 0, 0, 1, 0, 0, 0, 0, 0, 0, 0, 1, 0, 0, 0, 0, 0, 0, 0, 0, 0, 1, 0, 1, 0, 0, 0, 0, 0, 1, 0, 0, 0, 0, 0, 0, 0, 0, 0, 0, 1, 0, 0, 0, 1, 0, 0, 0, 0, 1, 1, 0, 0, 0, 0, 0, 0, 0, 0, 0, 0, 0, 0, 0, 0, 0, 0, 0, 0, 0, 1, 0, 0, 1, 0, 0, 0, 0, 0, 0, 0, 0, 1, 0, 0, 0, 0, 0, 1, 1, 1, 0, 0, 0, 0, 0, 1, 0, 0, 0, 0, 0, 0, 1, 0, 0, 0, 0, 0, 0, 1, 0, 0, 0, 0, 0, 0, 0, 0, 0, 0, 0, 1, 1, 0, 0, 1, 1, 0, 0, 0, 1, 0, 0, 0, 0, 0, 0, 0, 0, 0, 0, 0, 0, 1, 0, 0, 0, 0, 0, 0, 0, 0]\n"
          ]
        }
      ]
    },
    {
      "cell_type": "code",
      "metadata": {
        "colab": {
          "base_uri": "https://localhost:8080/"
        },
        "id": "NpHhDCw9lgtg",
        "outputId": "55485252-8392-4fed-b67b-2e104fdd665e"
      },
      "source": [
        "# Evaluate the ensemble.\n",
        "print(\"Evaluating ensemble...\")\n",
        "print(\"Accuracy:\", accuracy_score(total_votes, Y_test))\n",
        "print(\"Precision:\", precision_score(total_votes, Y_test))\n",
        "print(\"Recall:\", recall_score(total_votes, Y_test))\n",
        "print(\"F1 Score:\", f1_score(total_votes, Y_test))\n",
        "print(\"Confusion Matrix:\", confusion_matrix(total_votes, Y_test))"
      ],
      "execution_count": 34,
      "outputs": [
        {
          "output_type": "stream",
          "name": "stdout",
          "text": [
            "Evaluating ensemble...\n",
            "Accuracy: 0.9802690582959641\n",
            "Precision: 0.86\n",
            "Recall: 0.9923076923076923\n",
            "F1 Score: 0.9214285714285715\n",
            "Confusion Matrix: [[964  21]\n",
            " [  1 129]]\n"
          ]
        }
      ]
    },
    {
      "cell_type": "code",
      "metadata": {
        "id": "SCxSmseXlrpt"
      },
      "source": [
        "# Save the metrics.\n",
        "acc_list.append(accuracy_score(total_votes, Y_test))\n",
        "p_list.append(precision_score(total_votes, Y_test))\n",
        "r_list.append(recall_score(total_votes, Y_test))\n",
        "f1_list.append(f1_score(total_votes, Y_test))\n",
        "cm_list.append(confusion_matrix(total_votes, Y_test))"
      ],
      "execution_count": 35,
      "outputs": []
    },
    {
      "cell_type": "markdown",
      "metadata": {
        "id": "yP3LBlJ5mD3c"
      },
      "source": [
        "## **Analysis**\n",
        "---"
      ]
    },
    {
      "cell_type": "code",
      "metadata": {
        "colab": {
          "base_uri": "https://localhost:8080/"
        },
        "id": "VuhcTUz9mFVs",
        "outputId": "654f8323-db97-46be-ace7-814dc5127707"
      },
      "source": [
        "# Show the metrics.\n",
        "print(acc_list)\n",
        "print(p_list)\n",
        "print(r_list)\n",
        "print(f1_list)\n",
        "print(cm_list)\n",
        "print(time_train_list)\n",
        "print(time_pred_list)"
      ],
      "execution_count": 36,
      "outputs": [
        {
          "output_type": "stream",
          "name": "stdout",
          "text": [
            "[0.98, 0.97847533632287, 0.9802690582959641, 0.9775784753363229, 0.9730941704035875, 0.97847533632287, 0.9174887892376682, 0.9802690582959641, 0.979372197309417, 0.9802690582959641]\n",
            "[0.98, 0.84, 0.86, 0.8333333333333334, 0.8466666666666667, 0.8466666666666667, 0.38666666666666666, 0.9, 0.8466666666666667, 0.86]\n",
            "[0.945, 1.0, 0.9923076923076923, 1.0, 0.9477611940298507, 0.9921875, 1.0, 0.9507042253521126, 1.0, 0.9923076923076923]\n",
            "[0.96, 0.9130434782608696, 0.9214285714285715, 0.9090909090909091, 0.8943661971830985, 0.9136690647482014, 0.5576923076923077, 0.9246575342465754, 0.9169675090252708, 0.9214285714285715]\n",
            "[[[962, 3], [16, 134]], array([[965,  24],\n",
            "       [  0, 126]]), array([[964,  21],\n",
            "       [  1, 129]]), array([[965,  25],\n",
            "       [  0, 125]]), array([[958,  23],\n",
            "       [  7, 127]]), array([[964,  23],\n",
            "       [  1, 127]]), array([[965,  92],\n",
            "       [  0,  58]]), array([[958,  15],\n",
            "       [  7, 135]]), array([[965,  23],\n",
            "       [  0, 127]]), array([[964,  21],\n",
            "       [  1, 129]])]\n",
            "[6.8, 0.11789417266845703, 0.09831786155700684, 0.9603204727172852, 0.17173314094543457, 0.3680229187011719, 0.06270098686218262, 0.08011960983276367]\n",
            "[0.016196727752685547, 0.013748645782470703, 0.0705409049987793, 0.020740747451782227, 0.039951324462890625, 0.1607203483581543, 0.02136683464050293]\n"
          ]
        }
      ]
    },
    {
      "cell_type": "code",
      "metadata": {
        "colab": {
          "base_uri": "https://localhost:8080/",
          "height": 585
        },
        "id": "Q8CYQBx7mG6Y",
        "outputId": "e8cab27b-13de-4c4f-bc22-9da67d044e63"
      },
      "source": [
        "# Plot the accuracies.\n",
        "acc_classifiers = classifiers\n",
        "zipped_lists = zip(acc_list, acc_classifiers)\n",
        "sorted_pairs = sorted(zipped_lists, reverse=True)\n",
        "tuples = zip(*sorted_pairs)\n",
        "acc_list, acc_classifiers = [list(tuple) for tuple in tuples]\n",
        "plt.figure(figsize=(20, 10))\n",
        "plt.bar(acc_classifiers, acc_list, color='gold')\n",
        "plt.title('SMS Spam Dataset: Accuracy', size=25)\n",
        "plt.xlabel('Classifier', size=18)\n",
        "plt.ylabel('Accuracy', size=18)\n",
        "plt.show()"
      ],
      "execution_count": 37,
      "outputs": [
        {
          "output_type": "display_data",
          "data": {
            "image/png": "[encoded data removed]",
            "text/plain": [
              "<Figure size 1440x720 with 1 Axes>"
            ]
          },
          "metadata": {
            "needs_background": "light"
          }
        }
      ]
    },
    {
      "cell_type": "code",
      "metadata": {
        "colab": {
          "base_uri": "https://localhost:8080/",
          "height": 585
        },
        "id": "S2U4nyYkmJYo",
        "outputId": "df8e2a8d-4fd3-41bd-c15c-3f173a939ec8"
      },
      "source": [
        "# Plot the precision.\n",
        "p_classifiers = classifiers\n",
        "zipped_lists = zip(p_list, p_classifiers)\n",
        "sorted_pairs = sorted(zipped_lists, reverse=True)\n",
        "tuples = zip(*sorted_pairs)\n",
        "p_list, p_classifiers = [ list(tuple) for tuple in  tuples]\n",
        "plt.figure(figsize=(20, 10))\n",
        "plt.bar(p_classifiers, p_list, color='gold')\n",
        "plt.title('SMS Spam Dataset: Precision', size=25)\n",
        "plt.xlabel('Classifier', size=18)\n",
        "plt.ylabel('Precision', size=18)\n",
        "plt.show()"
      ],
      "execution_count": 38,
      "outputs": [
        {
          "output_type": "display_data",
          "data": {
            "image/png": "[encoded data removed]",
            "text/plain": [
              "<Figure size 1440x720 with 1 Axes>"
            ]
          },
          "metadata": {
            "needs_background": "light"
          }
        }
      ]
    },
    {
      "cell_type": "code",
      "metadata": {
        "colab": {
          "base_uri": "https://localhost:8080/",
          "height": 585
        },
        "id": "OodD2j-3mKni",
        "outputId": "812a7f40-fcbe-4822-eabb-78d2aa04ccca"
      },
      "source": [
        "# Plot the recall.\n",
        "r_classifiers = classifiers\n",
        "zipped_lists = zip(r_list, r_classifiers)\n",
        "sorted_pairs = sorted(zipped_lists, reverse=True)\n",
        "tuples = zip(*sorted_pairs)\n",
        "r_list, r_classifiers = [ list(tuple) for tuple in  tuples]\n",
        "plt.figure(figsize=(20, 10))\n",
        "plt.bar(r_classifiers, r_list, color='gold')\n",
        "plt.title('SMS Spam Dataset: Recall', size=25)\n",
        "plt.xlabel('Classifier', size=18)\n",
        "plt.ylabel('Recall', size=18)\n",
        "plt.show()"
      ],
      "execution_count": 39,
      "outputs": [
        {
          "output_type": "display_data",
          "data": {
            "image/png": "[encoded data removed]",
            "text/plain": [
              "<Figure size 1440x720 with 1 Axes>"
            ]
          },
          "metadata": {
            "needs_background": "light"
          }
        }
      ]
    },
    {
      "cell_type": "code",
      "metadata": {
        "colab": {
          "base_uri": "https://localhost:8080/",
          "height": 585
        },
        "id": "FJCruwlBmL08",
        "outputId": "be396d82-98e0-46bc-ad56-340d3785239c"
      },
      "source": [
        "# Plot the F1 scores.\n",
        "f1_classifiers = classifiers\n",
        "zipped_lists = zip(f1_list, f1_classifiers)\n",
        "sorted_pairs = sorted(zipped_lists, reverse=True)\n",
        "tuples = zip(*sorted_pairs)\n",
        "f1_list, f1_classifiers = [ list(tuple) for tuple in  tuples]\n",
        "plt.figure(figsize=(20, 10))\n",
        "plt.bar(f1_classifiers, f1_list, color='gold')\n",
        "plt.title('SMS Spam Dataset: F1 Score', size=25)\n",
        "plt.xlabel('Classifier', size=18)\n",
        "plt.ylabel('F1 Score', size=18)\n",
        "plt.show()"
      ],
      "execution_count": 40,
      "outputs": [
        {
          "output_type": "display_data",
          "data": {
            "image/png": "[encoded data removed]",
            "text/plain": [
              "<Figure size 1440x720 with 1 Axes>"
            ]
          },
          "metadata": {
            "needs_background": "light"
          }
        }
      ]
    },
    {
      "cell_type": "code",
      "metadata": {
        "colab": {
          "base_uri": "https://localhost:8080/",
          "height": 588
        },
        "id": "hLxlJlAymNhY",
        "outputId": "0d9b2f7c-2805-43a3-c154-389dc32201fd"
      },
      "source": [
        "# Plot the training times.\n",
        "train_classifiers = classifiers[:8]\n",
        "zipped_lists = zip(time_train_list, train_classifiers)\n",
        "sorted_pairs = sorted(zipped_lists, reverse=True)\n",
        "tuples = zip(*sorted_pairs)\n",
        "time_train_list, train_classifiers = [ list(tuple) for tuple in  tuples]\n",
        "plt.figure(figsize=(20, 10))\n",
        "plt.bar(train_classifiers, time_train_list, color='gold')\n",
        "plt.title('SMS Spam Dataset: Training Time', size=25)\n",
        "plt.xlabel('Classifier', size=18)\n",
        "plt.ylabel('Training Time ($s$)', size=18)\n",
        "plt.show()"
      ],
      "execution_count": 41,
      "outputs": [
        {
          "output_type": "display_data",
          "data": {
            "image/png": "[encoded data removed]",
            "text/plain": [
              "<Figure size 1440x720 with 1 Axes>"
            ]
          },
          "metadata": {
            "needs_background": "light"
          }
        }
      ]
    },
    {
      "cell_type": "code",
      "metadata": {
        "colab": {
          "base_uri": "https://localhost:8080/",
          "height": 1000
        },
        "id": "aoh206dLmQOJ",
        "outputId": "0fb083e8-1032-4489-cb4c-6cd4e90f6701"
      },
      "source": [
        "# Plot the confusion matrices.\n",
        "for i in range(len(classifiers)):\n",
        "  df_cm = pd.DataFrame(cm_list[i], index=['Negative', 'Positive'], columns=['Negative', 'Positive'])\n",
        "  plt.figure(figsize = (10,7))\n",
        "  ax = sn.heatmap(df_cm, annot=True, fmt='g')\n",
        "  ax.set_title(classifiers[i], size=20)"
      ],
      "execution_count": 42,
      "outputs": [
        {
          "output_type": "display_data",
          "data": {
            "image/png": "[encoded data removed]",
            "text/plain": [
              "<Figure size 720x504 with 2 Axes>"
            ]
          },
          "metadata": {
            "needs_background": "light"
          }
        },
        {
          "output_type": "display_data",
          "data": {
            "image/png": "[encoded data removed]",
            "text/plain": [
              "<Figure size 720x504 with 2 Axes>"
            ]
          },
          "metadata": {
            "needs_background": "light"
          }
        },
        {
          "output_type": "display_data",
          "data": {
            "image/png": "[encoded data removed]",
            "text/plain": [
              "<Figure size 720x504 with 2 Axes>"
            ]
          },
          "metadata": {
            "needs_background": "light"
          }
        },
        {
          "output_type": "display_data",
          "data": {
            "image/png": "[encoded data removed]",
            "text/plain": [
              "<Figure size 720x504 with 2 Axes>"
            ]
          },
          "metadata": {
            "needs_background": "light"
          }
        },
        {
          "output_type": "display_data",
          "data": {
            "image/png": "[encoded data removed]",
            "text/plain": [
              "<Figure size 720x504 with 2 Axes>"
            ]
          },
          "metadata": {
            "needs_background": "light"
          }
        },
        {
          "output_type": "display_data",
          "data": {
            "image/png": "[encoded data removed]",
            "text/plain": [
              "<Figure size 720x504 with 2 Axes>"
            ]
          },
          "metadata": {
            "needs_background": "light"
          }
        },
        {
          "output_type": "display_data",
          "data": {
            "image/png": "[encoded data removed]",
            "text/plain": [
              "<Figure size 720x504 with 2 Axes>"
            ]
          },
          "metadata": {
            "needs_background": "light"
          }
        },
        {
          "output_type": "display_data",
          "data": {
            "image/png": "[encoded data removed]",
            "text/plain": [
              "<Figure size 720x504 with 2 Axes>"
            ]
          },
          "metadata": {
            "needs_background": "light"
          }
        },
        {
          "output_type": "display_data",
          "data": {
            "image/png": "[encoded data removed]",
            "text/plain": [
              "<Figure size 720x504 with 2 Axes>"
            ]
          },
          "metadata": {
            "needs_background": "light"
          }
        },
        {
          "output_type": "display_data",
          "data": {
            "image/png": "[encoded data removed]",
            "text/plain": [
              "<Figure size 720x504 with 2 Axes>"
            ]
          },
          "metadata": {
            "needs_background": "light"
          }
        }
      ]
    }
  ]
}