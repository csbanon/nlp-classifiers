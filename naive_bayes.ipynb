{
 "cells": [
  {
   "cell_type": "markdown",
   "metadata": {
    "id": "taEWZ-AYtj2U"
   },
   "source": [
    "# **Final Project: Multinomial Naïve Bayes Model**\n",
    "#### *By Carlos Santiago Bañón and Eduard Akhmetshin*\n",
    "#### *CAP 6640, Spring '22*\n"
   ]
  },
  {
   "cell_type": "markdown",
   "metadata": {
    "id": "EyDnbBw0tzXd"
   },
   "source": [
    "## **1. Environment Setup**\n",
    "---"
   ]
  },
  {
   "cell_type": "code",
   "execution_count": 1,
   "metadata": {
    "id": "O4J8Mpt8t61f"
   },
   "outputs": [],
   "source": [
    "import itertools\n",
    "import matplotlib.pyplot as plt\n",
    "import nltk\n",
    "import numpy as np\n",
    "import pandas as pd\n",
    "import random\n",
    "import re\n",
    "import time\n",
    "from nltk.corpus import stopwords\n",
    "from sklearn.feature_extraction.text import TfidfVectorizer\n",
    "from sklearn.metrics import accuracy_score, roc_curve, roc_auc_score, auc, confusion_matrix, f1_score, precision_score, recall_score, make_scorer\n",
    "from sklearn.model_selection import cross_val_score, StratifiedKFold, train_test_split\n",
    "from sklearn.naive_bayes import MultinomialNB\n",
    "from sklearn.preprocessing import label_binarize"
   ]
  },
  {
   "cell_type": "code",
   "execution_count": 2,
   "metadata": {},
   "outputs": [],
   "source": [
    "# Seed the random number generators.\n",
    "random.seed(42)\n",
    "np.random.seed(42)"
   ]
  },
  {
   "cell_type": "markdown",
   "metadata": {
    "id": "s8P4ibHVuaA6"
   },
   "source": [
    "## **2. Data Preprocessing**\n",
    "---"
   ]
  },
  {
   "cell_type": "markdown",
   "metadata": {
    "id": "1pSCLtzrufrW"
   },
   "source": [
    "### **Load and Process the Dataset**"
   ]
  },
  {
   "cell_type": "code",
   "execution_count": 3,
   "metadata": {
    "colab": {
     "base_uri": "https://localhost:8080/",
     "height": 419
    },
    "id": "exDcGAjXufKi",
    "outputId": "187ba7e7-2e54-4313-d69c-6b51cb100d39"
   },
   "outputs": [
    {
     "data": {
      "text/html": [
       "<div>\n",
       "<style scoped>\n",
       "    .dataframe tbody tr th:only-of-type {\n",
       "        vertical-align: middle;\n",
       "    }\n",
       "\n",
       "    .dataframe tbody tr th {\n",
       "        vertical-align: top;\n",
       "    }\n",
       "\n",
       "    .dataframe thead th {\n",
       "        text-align: right;\n",
       "    }\n",
       "</style>\n",
       "<table border=\"1\" class=\"dataframe\">\n",
       "  <thead>\n",
       "    <tr style=\"text-align: right;\">\n",
       "      <th></th>\n",
       "      <th>overall</th>\n",
       "      <th>summary</th>\n",
       "      <th>review</th>\n",
       "    </tr>\n",
       "  </thead>\n",
       "  <tbody>\n",
       "    <tr>\n",
       "      <th>0</th>\n",
       "      <td>4</td>\n",
       "      <td>A solid overview of Dreamweaver CS5</td>\n",
       "      <td>I've been using Dreamweaver (and it's predeces...</td>\n",
       "    </tr>\n",
       "    <tr>\n",
       "      <th>1</th>\n",
       "      <td>4</td>\n",
       "      <td>A good value</td>\n",
       "      <td>The demo is done with the PC version, with ref...</td>\n",
       "    </tr>\n",
       "    <tr>\n",
       "      <th>2</th>\n",
       "      <td>5</td>\n",
       "      <td>This is excellent software for those who want ...</td>\n",
       "      <td>If you've been wanting to learn how to create ...</td>\n",
       "    </tr>\n",
       "    <tr>\n",
       "      <th>3</th>\n",
       "      <td>5</td>\n",
       "      <td>A Fantastic Overview of Dream Weaver and Web D...</td>\n",
       "      <td>I've been creating websites with Dreamweaver f...</td>\n",
       "    </tr>\n",
       "    <tr>\n",
       "      <th>4</th>\n",
       "      <td>5</td>\n",
       "      <td>Excellent Tutorials!</td>\n",
       "      <td>I decided (after trying a number of other prod...</td>\n",
       "    </tr>\n",
       "    <tr>\n",
       "      <th>...</th>\n",
       "      <td>...</td>\n",
       "      <td>...</td>\n",
       "      <td>...</td>\n",
       "    </tr>\n",
       "    <tr>\n",
       "      <th>10578</th>\n",
       "      <td>4</td>\n",
       "      <td>File Management Software with Basic Editing Ca...</td>\n",
       "      <td>When I ordered this it was listed as Photo Edi...</td>\n",
       "    </tr>\n",
       "    <tr>\n",
       "      <th>10579</th>\n",
       "      <td>3</td>\n",
       "      <td>Might not be for the \"novice\"</td>\n",
       "      <td>This software has SO much going on. Theres a p...</td>\n",
       "    </tr>\n",
       "    <tr>\n",
       "      <th>10580</th>\n",
       "      <td>4</td>\n",
       "      <td>Great, Inexpensive Software for Those Who Have...</td>\n",
       "      <td>I have used both more complex and less complex...</td>\n",
       "    </tr>\n",
       "    <tr>\n",
       "      <th>10581</th>\n",
       "      <td>3</td>\n",
       "      <td>Gets the job done ... but not as easy as it sh...</td>\n",
       "      <td>Pinnacle Studio 20 Ultimate is a perfectly ser...</td>\n",
       "    </tr>\n",
       "    <tr>\n",
       "      <th>10582</th>\n",
       "      <td>4</td>\n",
       "      <td>Good overall program.</td>\n",
       "      <td>A program that is fairly easy to use and provi...</td>\n",
       "    </tr>\n",
       "  </tbody>\n",
       "</table>\n",
       "<p>10583 rows × 3 columns</p>\n",
       "</div>"
      ],
      "text/plain": [
       "       overall                                            summary  \\\n",
       "0            4                A solid overview of Dreamweaver CS5   \n",
       "1            4                                       A good value   \n",
       "2            5  This is excellent software for those who want ...   \n",
       "3            5  A Fantastic Overview of Dream Weaver and Web D...   \n",
       "4            5                               Excellent Tutorials!   \n",
       "...        ...                                                ...   \n",
       "10578        4  File Management Software with Basic Editing Ca...   \n",
       "10579        3                      Might not be for the \"novice\"   \n",
       "10580        4  Great, Inexpensive Software for Those Who Have...   \n",
       "10581        3  Gets the job done ... but not as easy as it sh...   \n",
       "10582        4                              Good overall program.   \n",
       "\n",
       "                                                  review  \n",
       "0      I've been using Dreamweaver (and it's predeces...  \n",
       "1      The demo is done with the PC version, with ref...  \n",
       "2      If you've been wanting to learn how to create ...  \n",
       "3      I've been creating websites with Dreamweaver f...  \n",
       "4      I decided (after trying a number of other prod...  \n",
       "...                                                  ...  \n",
       "10578  When I ordered this it was listed as Photo Edi...  \n",
       "10579  This software has SO much going on. Theres a p...  \n",
       "10580  I have used both more complex and less complex...  \n",
       "10581  Pinnacle Studio 20 Ultimate is a perfectly ser...  \n",
       "10582  A program that is fairly easy to use and provi...  \n",
       "\n",
       "[10583 rows x 3 columns]"
      ]
     },
     "execution_count": 3,
     "metadata": {},
     "output_type": "execute_result"
    }
   ],
   "source": [
    "# Load the dataset into a Pandas DataFrame.\n",
    "file_name = './data.csv'\n",
    "df = pd.read_csv(file_name, sep='|', names=['overall', 'summary', 'review'], dtype={ 'overall':int, 'review':str })\n",
    "df"
   ]
  },
  {
   "cell_type": "code",
   "execution_count": 4,
   "metadata": {
    "colab": {
     "base_uri": "https://localhost:8080/"
    },
    "id": "IDydaohFudWG",
    "outputId": "3b1cef97-ca31-4769-edec-da48c3cd0415"
   },
   "outputs": [
    {
     "data": {
      "text/plain": [
       "5    4527\n",
       "4    2761\n",
       "3    1420\n",
       "1    1241\n",
       "2     634\n",
       "Name: overall, dtype: int64"
      ]
     },
     "execution_count": 4,
     "metadata": {},
     "output_type": "execute_result"
    }
   ],
   "source": [
    "# Show the number of samples for each class.\n",
    "df['overall'].value_counts()"
   ]
  },
  {
   "cell_type": "code",
   "execution_count": 5,
   "metadata": {
    "id": "okcyZUYcul_d"
   },
   "outputs": [],
   "source": [
    "# Split the dataset into features and labels.\n",
    "X = df['review'].to_numpy()\n",
    "y = df['overall'].to_numpy() - 1"
   ]
  },
  {
   "cell_type": "code",
   "execution_count": 6,
   "metadata": {
    "colab": {
     "base_uri": "https://localhost:8080/"
    },
    "id": "VeawCofkCVcK",
    "outputId": "4ca0995e-b678-4f03-989a-cfcb121eaeba"
   },
   "outputs": [],
   "source": [
    "# Split the dataset into training and test sets.\n",
    "X_train, X_test, y_train, y_test = train_test_split(X, y, test_size=0.2, random_state=42)"
   ]
  },
  {
   "cell_type": "markdown",
   "metadata": {
    "id": "cLvTVlPuBVAH"
   },
   "source": [
    "## **3. Multinomial Naïve Bayes Model**\n",
    "---"
   ]
  },
  {
   "cell_type": "markdown",
   "metadata": {
    "id": "vmxDuxyoBbW3"
   },
   "source": [
    "### **Preprocess the Text**"
   ]
  },
  {
   "cell_type": "code",
   "execution_count": 7,
   "metadata": {
    "colab": {
     "base_uri": "https://localhost:8080/"
    },
    "id": "ClqVTAhJBYie",
    "outputId": "5dbef613-9cfd-478a-e306-db79d1c516c9"
   },
   "outputs": [
    {
     "name": "stderr",
     "output_type": "stream",
     "text": [
      "[nltk_data] Downloading package stopwords to\n",
      "[nltk_data]     /Users/csbanon/nltk_data...\n",
      "[nltk_data]   Package stopwords is already up-to-date!\n"
     ]
    },
    {
     "data": {
      "text/plain": [
       "True"
      ]
     },
     "execution_count": 7,
     "metadata": {},
     "output_type": "execute_result"
    }
   ],
   "source": [
    "# Download the stopwords from NLTK.\n",
    "nltk.download(\"stopwords\")"
   ]
  },
  {
   "cell_type": "code",
   "execution_count": 8,
   "metadata": {
    "id": "m3di-6gsBfZ2"
   },
   "outputs": [],
   "source": [
    "def text_preprocessing(s):\n",
    "    \"\"\"\n",
    "    Process the text by performing the following:\n",
    "    * Lowercase the sentence.\n",
    "    * Change \"'t\" to \"not\".\n",
    "    * Remove \"@name\".\n",
    "    * Isolate and remove punctuations except \"?\".\n",
    "    * Remove other special characters.\n",
    "    * Remove stop words except \"not\" and \"can\".\n",
    "    * Remove trailing whitespace.\n",
    "\n",
    "    Based on the following tutorial given in class:\n",
    "        https://skimai.com/fine-tuning-bert-for-sentiment-analysis/\n",
    "    \"\"\"\n",
    "\n",
    "    # If needed, convert to string.\n",
    "    s = str(s)\n",
    "\n",
    "    # Lowercase the sentence.\n",
    "    s = s.lower()\n",
    "\n",
    "    # Change 't to 'not'.\n",
    "    s = re.sub(r\"\\'t\", \" not\", s)\n",
    "\n",
    "    # Remove @name.\n",
    "    s = re.sub(r'(@.*?)[\\s]', ' ', s)\n",
    "\n",
    "    # Isolate and remove punctuations except '?'.\n",
    "    s = re.sub(r'([\\'\\\"\\.\\(\\)\\!\\?\\\\\\/\\,])', r' \\1 ', s)\n",
    "    s = re.sub(r'[^\\w\\s\\?]', ' ', s)\n",
    "\n",
    "    # Remove some special characters.\n",
    "    s = re.sub(r'([\\;\\:\\|•«\\n])', ' ', s)\n",
    "\n",
    "    # Remove stopwords except 'not' and 'can'.\n",
    "    s = \" \".join([word for word in s.split()\n",
    "                  if word not in stopwords.words('english')\n",
    "                  or word in ['not', 'can']])\n",
    "\n",
    "    # Remove trailing whitespace.\n",
    "    s = re.sub(r'\\s+', ' ', s).strip()\n",
    "\n",
    "    return s"
   ]
  },
  {
   "cell_type": "code",
   "execution_count": 9,
   "metadata": {
    "id": "4NKIFUHgBhTW"
   },
   "outputs": [],
   "source": [
    "# Preprocess the text.\n",
    "X_train_preprocessed = np.array([text_preprocessing(text) for text in X_train])\n",
    "X_test_preprocessed = np.array([text_preprocessing(text) for text in X_test])"
   ]
  },
  {
   "cell_type": "code",
   "execution_count": 10,
   "metadata": {
    "id": "zbbLOY4qBlKw"
   },
   "outputs": [],
   "source": [
    "# Calculate the TF-IDF.\n",
    "tf_idf = TfidfVectorizer(ngram_range=(1, 3))\n",
    "X_train_tfidf = tf_idf.fit_transform(X_train_preprocessed)\n",
    "X_test_tfidf = tf_idf.transform(X_test_preprocessed)"
   ]
  },
  {
   "cell_type": "markdown",
   "metadata": {
    "id": "7lJOlmMeCiHH"
   },
   "source": [
    "### **Train and Evaluate the Naïve Bayes Classifier**"
   ]
  },
  {
   "cell_type": "markdown",
   "metadata": {
    "id": "TxJvtDqRC9-6"
   },
   "source": [
    "#### **Train the Model**"
   ]
  },
  {
   "cell_type": "code",
   "execution_count": 11,
   "metadata": {
    "colab": {
     "base_uri": "https://localhost:8080/"
    },
    "id": "vSn9bZM9C-T5",
    "outputId": "ac03354e-5abc-4794-d589-8db58a65cc03"
   },
   "outputs": [
    {
     "name": "stdout",
     "output_type": "stream",
     "text": [
      "Training Time: 0.07093930244445801\n"
     ]
    }
   ],
   "source": [
    "# Train the model.\n",
    "t0 = time.time()\n",
    "nb_model = MultinomialNB(alpha=0.01)\n",
    "nb_model.fit(X_train_tfidf, y_train)\n",
    "t1 = time.time()\n",
    "print(\"Training Time:\", t1 - t0)"
   ]
  },
  {
   "cell_type": "markdown",
   "metadata": {
    "id": "ZqVSD2LNDBt2"
   },
   "source": [
    "#### **Evaluate the Model**"
   ]
  },
  {
   "cell_type": "code",
   "execution_count": 12,
   "metadata": {},
   "outputs": [],
   "source": [
    "# Make predictions on the test set.\n",
    "y_prob = nb_model.predict_proba(X_test_tfidf)\n",
    "y_pred = np.argmax(y_prob, axis=1)"
   ]
  },
  {
   "cell_type": "code",
   "execution_count": 13,
   "metadata": {},
   "outputs": [
    {
     "name": "stdout",
     "output_type": "stream",
     "text": [
      "Accuracy: 0.5063769485120454\n",
      "Precision: 0.34501790814478256\n",
      "Recall: 0.5469890674543942\n",
      "F1 Score: 0.3482280743429341\n"
     ]
    }
   ],
   "source": [
    "# Get the performance metrics.\n",
    "print(\"Accuracy:\", accuracy_score(y_pred, y_test))\n",
    "print(\"Precision:\", precision_score(y_pred, y_test, average='macro'))\n",
    "print(\"Recall:\", recall_score(y_pred, y_test, average='macro'))\n",
    "print(\"F1 Score:\", f1_score(y_pred, y_test, average='macro'))"
   ]
  },
  {
   "cell_type": "code",
   "execution_count": 14,
   "metadata": {},
   "outputs": [],
   "source": [
    "def confusion_matrix_plot(y_test, y_pred, title='Confusion Matrix'):\n",
    "    \"\"\"\n",
    "    Plot a confusion matrix given the test and predicted labels.\n",
    "    \"\"\"\n",
    "    \n",
    "    # Compute the confusion matrix.\n",
    "    classes = [0, 1, 2, 3, 4]\n",
    "    matrix = confusion_matrix(y_test, y_pred, labels=classes)\n",
    "    \n",
    "    # Plot the confusion matrix.\n",
    "    plt.figure()\n",
    "    plt.imshow(matrix, interpolation='nearest', cmap=plt.cm.Reds)\n",
    "    plt.title(title)\n",
    "    plt.colorbar()\n",
    "    tick_marks = np.arange(len(classes))\n",
    "    labels = [1, 2, 3, 4, 5]\n",
    "    plt.xticks(tick_marks, labels, rotation=45)\n",
    "    plt.yticks(tick_marks, labels)\n",
    "\n",
    "    # Define a color threshold.\n",
    "    threshold = matrix.max() / 2.0\n",
    "    \n",
    "    # Show the values.\n",
    "    for i, j in itertools.product(range(matrix.shape[0]), range(matrix.shape[1])):\n",
    "        \n",
    "        if matrix[i, j] > threshold:\n",
    "            color = \"white\"\n",
    "        else:\n",
    "            color = \"black\"\n",
    "            \n",
    "        plt.text(j, i, format(matrix[i, j], 'd'), horizontalalignment=\"center\", color=color)\n",
    "\n",
    "    plt.ylabel('True')\n",
    "    plt.xlabel('Predicted')\n",
    "    plt.tight_layout()"
   ]
  },
  {
   "cell_type": "code",
   "execution_count": 15,
   "metadata": {},
   "outputs": [
    {
     "data": {
      "image/png": "[encoded data removed]",
      "text/plain": [
       "<Figure size 432x288 with 2 Axes>"
      ]
     },
     "metadata": {
      "needs_background": "light"
     },
     "output_type": "display_data"
    }
   ],
   "source": [
    "confusion_matrix_plot(y_pred, y_test, title=\"Confusion Matrix: Naïve Bayes\")"
   ]
  },
  {
   "cell_type": "code",
   "execution_count": 16,
   "metadata": {
    "id": "r-M89SfCDBBs"
   },
   "outputs": [],
   "source": [
    "def roc_plot(y_prob, y_pred, y, title='ROC'):\n",
    "    \"\"\"\n",
    "    Plot the ROC curve given the true and predicted labels.\n",
    "    \"\"\"\n",
    "        \n",
    "    num_classes = y_prob.shape[1]\n",
    "    auc_list = []    \n",
    "    \n",
    "    # Binarize the labels.\n",
    "    classes = [0, 1, 2, 3, 4]\n",
    "    y_pred_binary = label_binarize(y_pred, classes=classes)\n",
    "    y_binary = label_binarize(y, classes=classes)\n",
    "    \n",
    "    # Compute the AUC for each class.\n",
    "    for i in range(num_classes):\n",
    "\n",
    "        y_pred_i = y_prob[:, i]\n",
    "        y_i = y_binary[:, i]\n",
    "\n",
    "        # Compute the AUC.\n",
    "        fpr, tpr, threshold = roc_curve(y_i, y_pred_i)\n",
    "        roc_auc = auc(fpr, tpr)\n",
    "        auc_list.append(roc_auc)\n",
    "\n",
    "        # Plot the AUC.\n",
    "        plt.plot(fpr, tpr, label=f'AUC ({i+1}-Star): {roc_auc:.4f}')\n",
    "\n",
    "    # Configure the ROC curve.\n",
    "    plt.title(title)\n",
    "    plt.legend(loc='lower right')\n",
    "    plt.plot([0, 1], [0, 1],'r--')\n",
    "    plt.xlim([0, 1])\n",
    "    plt.ylim([0, 1])\n",
    "    plt.ylabel('True Positive Rate')\n",
    "    plt.xlabel('False Positive Rate')\n",
    "    plt.show()\n",
    "    \n",
    "    return np.mean(auc_list)"
   ]
  },
  {
   "cell_type": "code",
   "execution_count": 17,
   "metadata": {
    "colab": {
     "base_uri": "https://localhost:8080/",
     "height": 958
    },
    "id": "MbN9n3fEDHw0",
    "outputId": "f3a45b15-b576-45b2-fefc-726b8362b5b2"
   },
   "outputs": [
    {
     "data": {
      "image/png": "[encoded data removed]",
      "text/plain": [
       "<Figure size 432x288 with 1 Axes>"
      ]
     },
     "metadata": {
      "needs_background": "light"
     },
     "output_type": "display_data"
    },
    {
     "name": "stdout",
     "output_type": "stream",
     "text": [
      "Avg. AUC: 0.7366085315965225\n"
     ]
    }
   ],
   "source": [
    "# Plot the ROC.\n",
    "avg_auc = roc_plot(y_prob, y_pred, y_test, \"ROC: Naïve Bayes\")\n",
    "print(\"Avg. AUC:\", avg_auc)"
   ]
  },
  {
   "cell_type": "code",
   "execution_count": 18,
   "metadata": {},
   "outputs": [],
   "source": [
    "def off_by_one_accuracy_score(y_pred, y):\n",
    "    \"\"\"\n",
    "    Compute the Off-by-One accuracy given the true and predicted labels.\n",
    "    \"\"\"\n",
    "    \n",
    "    num_samples = len(y_pred)\n",
    "    accurate_preds = []\n",
    "    \n",
    "    for i in range(num_samples):\n",
    "        val = np.abs(y_pred[i] - y[i])\n",
    "        accurate_preds.append(1 if val <= 1 else 0)\n",
    "        \n",
    "    return np.mean(accurate_preds)"
   ]
  },
  {
   "cell_type": "code",
   "execution_count": 19,
   "metadata": {},
   "outputs": [
    {
     "name": "stdout",
     "output_type": "stream",
     "text": [
      "Off-by-One Accuracy: 0.8058573452999528\n"
     ]
    }
   ],
   "source": [
    "# Compute the off-by-one accuracy.\n",
    "off_by_one_acc = off_by_one_accuracy_score(y_pred, y_test)\n",
    "print(\"Off-by-One Accuracy:\", off_by_one_acc)"
   ]
  }
 ],
 "metadata": {
  "colab": {
   "collapsed_sections": [],
   "name": "CAP 6640 - Final Project: Naïve Bayes",
   "provenance": []
  },
  "kernelspec": {
   "display_name": "Python 3 (ipykernel)",
   "language": "python",
   "name": "python3"
  },
  "language_info": {
   "codemirror_mode": {
    "name": "ipython",
    "version": 3
   },
   "file_extension": ".py",
   "mimetype": "text/x-python",
   "name": "python",
   "nbconvert_exporter": "python",
   "pygments_lexer": "ipython3",
   "version": "3.9.10"
  }
 },
 "nbformat": 4,
 "nbformat_minor": 1
}
